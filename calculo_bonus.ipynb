{
 "cells": [
  {
   "cell_type": "code",
   "execution_count": 1,
   "metadata": {},
   "outputs": [
    {
     "ename": "SyntaxError",
     "evalue": "invalid syntax (1399778136.py, line 41)",
     "output_type": "error",
     "traceback": [
      "\u001b[1;36m  File \u001b[1;32m\"C:\\Users\\vzapo\\AppData\\Local\\Temp\\ipykernel_26832\\1399778136.py\"\u001b[1;36m, line \u001b[1;32m41\u001b[0m\n\u001b[1;33m    git init\u001b[0m\n\u001b[1;37m        ^\u001b[0m\n\u001b[1;31mSyntaxError\u001b[0m\u001b[1;31m:\u001b[0m invalid syntax\n"
     ]
    }
   ],
   "source": [
    "# Vamos criar um programa para cálculo de bônus que os funcionários devem receber\n",
    "# As regras são:\n",
    "#   a meta é de 1000 vendas\n",
    "#   if vendas >= 2000 então o bonus é 15% das vendas\n",
    "#   if vendas < 2000 >= 1000 então bonus é 10%\n",
    "#   if vendas < 1000 então bonus é 0%\n",
    "\n",
    "input_f1 = input('Informe a quantidade de vendas do Funcionário 01: ')\n",
    "input_f2 = input('Informe a quantidade de vendas do Funcionário 02: ')\n",
    "input_f3 = input('Informe a quantidade de vendas do Funcionário 03: ')\n",
    "\n",
    "vendas_f1 = (int(input_f1))\n",
    "vendas_f2 = (int(input_f2))\n",
    "vendas_f3 = (int(input_f3))\n",
    "\n",
    "meta = 1000\n",
    "\n",
    "if vendas_f1 >= 2000:\n",
    "    bonus1 = vendas_f1 * 0.15\n",
    "elif vendas_f1 >= 1000:\n",
    "    bonus1 = vendas_f1 * 0.10\n",
    "else:\n",
    "    bonus1 = vendas_f1 * 0\n",
    "if vendas_f2 >= 2000:\n",
    "    bonus2 = vendas_f2 * 0.15\n",
    "elif vendas_f2 >= 1000:\n",
    "    bonus2 = vendas_f2 * 0.10\n",
    "else:\n",
    "    bonus2 = vendas_f2 * 0\n",
    "if vendas_f3 >= 2000:\n",
    "    bonus3 = vendas_f3 * 0.15\n",
    "elif vendas_f3 >= 1000:\n",
    "    bonus3 = vendas_f3 * 0.10\n",
    "else:\n",
    "    bonus3 = vendas_f3 * 0\n",
    "\n",
    "print(f'O Funcionário 1 ganhou R$ {bonus1} de bônus')\n",
    "print(f'O Funcionário 2 ganhou R$ {bonus2} de bônus')\n",
    "print(f'O Funcionário 3 ganhou R$ {bonus3} de bônus')"
   ]
  }
 ],
 "metadata": {
  "kernelspec": {
   "display_name": "base",
   "language": "python",
   "name": "python3"
  },
  "language_info": {
   "codemirror_mode": {
    "name": "ipython",
    "version": 3
   },
   "file_extension": ".py",
   "mimetype": "text/x-python",
   "name": "python",
   "nbconvert_exporter": "python",
   "pygments_lexer": "ipython3",
   "version": "3.9.13"
  },
  "orig_nbformat": 4,
  "vscode": {
   "interpreter": {
    "hash": "f6f8197cc0f6f92425d8fbd3aed517a418d3d302582f523eda95262c10fe1172"
   }
  }
 },
 "nbformat": 4,
 "nbformat_minor": 2
}
